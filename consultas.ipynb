{
 "cells": [
  {
   "cell_type": "code",
   "execution_count": 5,
   "id": "051caf45",
   "metadata": {},
   "outputs": [],
   "source": [
    "import pandas as pd"
   ]
  },
  {
   "cell_type": "code",
   "execution_count": 6,
   "id": "7e669103",
   "metadata": {},
   "outputs": [
    {
     "data": {
      "text/html": [
       "<div>\n",
       "<style scoped>\n",
       "    .dataframe tbody tr th:only-of-type {\n",
       "        vertical-align: middle;\n",
       "    }\n",
       "\n",
       "    .dataframe tbody tr th {\n",
       "        vertical-align: top;\n",
       "    }\n",
       "\n",
       "    .dataframe thead th {\n",
       "        text-align: right;\n",
       "    }\n",
       "</style>\n",
       "<table border=\"1\" class=\"dataframe\">\n",
       "  <thead>\n",
       "    <tr style=\"text-align: right;\">\n",
       "      <th></th>\n",
       "      <th>UNIVERSIDADE</th>\n",
       "      <th>SEXO</th>\n",
       "      <th>GRUPO INSCRIÇÃO</th>\n",
       "      <th>VAGA CLASSIFICAÇÃO</th>\n",
       "      <th>PONTUAÇÃO</th>\n",
       "      <th>ENTRADA</th>\n",
       "      <th>COLOCAÇÕES</th>\n",
       "      <th>CURSO</th>\n",
       "      <th>MODALIDADE</th>\n",
       "      <th>TURNO</th>\n",
       "      <th>CIDADE</th>\n",
       "    </tr>\n",
       "  </thead>\n",
       "  <tbody>\n",
       "    <tr>\n",
       "      <th>0</th>\n",
       "      <td>UNIVERSIDADE FEDERAL DO PARÁ</td>\n",
       "      <td>F</td>\n",
       "      <td>7</td>\n",
       "      <td>A</td>\n",
       "      <td>560.93</td>\n",
       "      <td>2</td>\n",
       "      <td>14</td>\n",
       "      <td>AGROECOLOGIA</td>\n",
       "      <td>TECNOLOGO</td>\n",
       "      <td>INTEGRAL</td>\n",
       "      <td>ABAETETUBA</td>\n",
       "    </tr>\n",
       "    <tr>\n",
       "      <th>1</th>\n",
       "      <td>UNIVERSIDADE FEDERAL DO PARÁ</td>\n",
       "      <td>M</td>\n",
       "      <td>7</td>\n",
       "      <td>A</td>\n",
       "      <td>600.53</td>\n",
       "      <td>2</td>\n",
       "      <td>8</td>\n",
       "      <td>AGROECOLOGIA</td>\n",
       "      <td>TECNOLOGO</td>\n",
       "      <td>INTEGRAL</td>\n",
       "      <td>ABAETETUBA</td>\n",
       "    </tr>\n",
       "    <tr>\n",
       "      <th>2</th>\n",
       "      <td>UNIVERSIDADE FEDERAL DO PARÁ</td>\n",
       "      <td>M</td>\n",
       "      <td>7</td>\n",
       "      <td>I</td>\n",
       "      <td>494.85</td>\n",
       "      <td>2</td>\n",
       "      <td>1</td>\n",
       "      <td>AGROECOLOGIA</td>\n",
       "      <td>TECNOLOGO</td>\n",
       "      <td>INTEGRAL</td>\n",
       "      <td>ABAETETUBA</td>\n",
       "    </tr>\n",
       "    <tr>\n",
       "      <th>3</th>\n",
       "      <td>UNIVERSIDADE FEDERAL DO PARÁ</td>\n",
       "      <td>F</td>\n",
       "      <td>7</td>\n",
       "      <td>A</td>\n",
       "      <td>626.38</td>\n",
       "      <td>2</td>\n",
       "      <td>7</td>\n",
       "      <td>AGROECOLOGIA</td>\n",
       "      <td>TECNOLOGO</td>\n",
       "      <td>INTEGRAL</td>\n",
       "      <td>ABAETETUBA</td>\n",
       "    </tr>\n",
       "    <tr>\n",
       "      <th>4</th>\n",
       "      <td>UNIVERSIDADE FEDERAL DO PARÁ</td>\n",
       "      <td>F</td>\n",
       "      <td>9</td>\n",
       "      <td>A</td>\n",
       "      <td>654.92</td>\n",
       "      <td>2</td>\n",
       "      <td>2</td>\n",
       "      <td>AGROECOLOGIA</td>\n",
       "      <td>TECNOLOGO</td>\n",
       "      <td>INTEGRAL</td>\n",
       "      <td>ABAETETUBA</td>\n",
       "    </tr>\n",
       "  </tbody>\n",
       "</table>\n",
       "</div>"
      ],
      "text/plain": [
       "                   UNIVERSIDADE SEXO  GRUPO INSCRIÇÃO VAGA CLASSIFICAÇÃO  \\\n",
       "0  UNIVERSIDADE FEDERAL DO PARÁ    F                7                  A   \n",
       "1  UNIVERSIDADE FEDERAL DO PARÁ    M                7                  A   \n",
       "2  UNIVERSIDADE FEDERAL DO PARÁ    M                7                  I   \n",
       "3  UNIVERSIDADE FEDERAL DO PARÁ    F                7                  A   \n",
       "4  UNIVERSIDADE FEDERAL DO PARÁ    F                9                  A   \n",
       "\n",
       "   PONTUAÇÃO  ENTRADA COLOCAÇÕES         CURSO MODALIDADE     TURNO  \\\n",
       "0     560.93        2         14  AGROECOLOGIA  TECNOLOGO  INTEGRAL   \n",
       "1     600.53        2          8  AGROECOLOGIA  TECNOLOGO  INTEGRAL   \n",
       "2     494.85        2          1  AGROECOLOGIA  TECNOLOGO  INTEGRAL   \n",
       "3     626.38        2          7  AGROECOLOGIA  TECNOLOGO  INTEGRAL   \n",
       "4     654.92        2          2  AGROECOLOGIA  TECNOLOGO  INTEGRAL   \n",
       "\n",
       "       CIDADE  \n",
       "0  ABAETETUBA  \n",
       "1  ABAETETUBA  \n",
       "2  ABAETETUBA  \n",
       "3  ABAETETUBA  \n",
       "4  ABAETETUBA  "
      ]
     },
     "execution_count": 6,
     "metadata": {},
     "output_type": "execute_result"
    }
   ],
   "source": [
    "df = pd.read_csv(\"data/alunos_classificados2.csv\")\n",
    "df.head()"
   ]
  },
  {
   "cell_type": "code",
   "execution_count": 7,
   "id": "2d0882e7",
   "metadata": {},
   "outputs": [
    {
     "data": {
      "text/plain": [
       "CURSO\n",
       "PEDAGOGIA                  164\n",
       "ADMINISTRAÇÃO              138\n",
       "CIÊNCIAS BIOLÓGICAS         92\n",
       "ARQUIVOLOGIA                82\n",
       "GEOGRAFIA                   80\n",
       "BIBLIOTECONOMIA             76\n",
       "MEDICINA                    62\n",
       "ARQUITETURA E URBANISMO     61\n",
       "CIENCIAS BIOLOGICAS         60\n",
       "LETRAS PORTUGUES            48\n",
       "AGRONOMIA                   41\n",
       "ENGENHARIA DE PRODUÇÃO      41\n",
       "CIÊNCIA DA COMPUTAÇÃO       41\n",
       "BIOMEDICINA                 41\n",
       "HISTÓRIA                    40\n",
       "CIENCIA E TECNOLOGIA        40\n",
       "ENGENHARIA FLORESTAL        40\n",
       "MATEMATICA                  40\n",
       "BIOTECNOLOGIA               40\n",
       "FISICA                      38\n",
       "LETRAS INGLES               30\n",
       "AGROECOLOGIA                28\n",
       "LETRAS - ESPANHOL           26\n",
       "LETRAS - PORTUGUES          21\n",
       "GEOPROCESSAMENTO            21\n",
       "ENGENHARIA DE MATERIAIS     20\n",
       "QUIMICA                     15\n",
       "FÍSICA                      15\n",
       "Name: count, dtype: int64"
      ]
     },
     "execution_count": 7,
     "metadata": {},
     "output_type": "execute_result"
    }
   ],
   "source": [
    "# quais cursos estão presentes no dataframe\n",
    "df[\"CURSO\"].value_counts()"
   ]
  },
  {
   "cell_type": "code",
   "execution_count": 8,
   "id": "d58bce67",
   "metadata": {},
   "outputs": [
    {
     "data": {
      "text/plain": [
       "CIDADE\n",
       "BELEM                  571\n",
       "ALTAMIRA               359\n",
       "ABAETETUBA             255\n",
       "ANANINDEUA             191\n",
       "ABAETETUBA ACARA        27\n",
       "ABAETETUBA TOME-ACU     20\n",
       "ALTAMIRA ARUARA         18\n",
       "Name: count, dtype: int64"
      ]
     },
     "execution_count": 8,
     "metadata": {},
     "output_type": "execute_result"
    }
   ],
   "source": [
    "# quais cidades estão presentes no dataframe\n",
    "df[\"CIDADE\"].value_counts()"
   ]
  }
 ],
 "metadata": {
  "kernelspec": {
   "display_name": "Python 3",
   "language": "python",
   "name": "python3"
  },
  "language_info": {
   "codemirror_mode": {
    "name": "ipython",
    "version": 3
   },
   "file_extension": ".py",
   "mimetype": "text/x-python",
   "name": "python",
   "nbconvert_exporter": "python",
   "pygments_lexer": "ipython3",
   "version": "3.12.3"
  }
 },
 "nbformat": 4,
 "nbformat_minor": 5
}
